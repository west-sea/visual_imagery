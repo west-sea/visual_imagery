{
 "cells": [
  {
   "cell_type": "code",
   "execution_count": 6,
   "id": "76cd9c86-319a-420a-aa04-6f779606f5ba",
   "metadata": {},
   "outputs": [],
   "source": [
    "import numpy as np\n",
    "import json\n",
    "import mne\n",
    "\n",
    "def import_EEG(file_name):\n",
    "    \"\"\"\n",
    "    :param file_name: Path to the text file containing EEG data\n",
    "    :return: EEG_array (numpy array: epoch * timestamp * channel), label_array (numpy array of labels)\n",
    "    \"\"\"\n",
    "    with open(file_name, 'r') as f:\n",
    "        lines = f.readlines()\n",
    "    \n",
    "    label_type = '0123'\n",
    "    EEG_array = []\n",
    "    label_array = []\n",
    "\n",
    "    for l in lines:\n",
    "        l = l.strip()\n",
    "        if l in label_type:\n",
    "            label_array.append(np.int64(l))\n",
    "        else:  # append the data for the label\n",
    "            data = json.loads(l)\n",
    "            EEG_array.append(np.float64(data))\n",
    "\n",
    "    EEG_array = np.array(EEG_array) * (10**(-8))\n",
    "    label_array = np.array(label_array)\n",
    "    EEG_array = np.transpose(EEG_array, (0, 2, 1))\n",
    "    \n",
    "    return EEG_array, label_array\n",
    "\n",
    "def print_list_structure(lst, depth=0):\n",
    "    if isinstance(lst, list):\n",
    "        print(f\"{'  ' * depth}[\\n\")\n",
    "        for item in lst:\n",
    "            print_list_structure(item, depth + 1)\n",
    "        print(f\"{'  ' * depth}]\")\n",
    "    else:\n",
    "        print(f\"{'  ' * depth}{lst}\")\n",
    "\n",
    "def EEG_array_modifier(eeg_array, label_array):\n",
    "    \"\"\"\n",
    "    Receives the EEG array and the label array to modify into a more suitable form to switch it into EpochsArray\n",
    "\n",
    "    :param eeg_array: (numpy array) EEG data of each trial\n",
    "    :param label_array: (numpy array) Labels of each trial\n",
    "    :return: Modified EEG array and events array\n",
    "    \"\"\"\n",
    "    X, y, event_timepoints = [], [], []\n",
    "    for i, label in enumerate(label_array):\n",
    "        X.append(np.array(eeg_array[i]))\n",
    "        y.append(label)\n",
    "        event_timepoints.append(i)\n",
    "    \n",
    "    events_array = np.array([[event_timepoints[i], 0, y[i]] for i in range(len(y))])\n",
    "    return np.array(X), events_array\n",
    "\n",
    "def EEG_to_epochs(eeg_array, label_array, sfreq=500, event_id={'Rest': 0, 'Right Hand': 1, 'Left Hand': 2, 'Feet': 3}):\n",
    "    channels = ['F5', 'FC5', 'C5', 'CP5', 'P5', 'FC3', 'C3', 'CP3', 'P3', 'F1', 'FC1', 'C1', 'CP1', 'P1', 'Cz', 'CPz',\n",
    "                'Pz', 'F2', 'FC2', 'C2', 'CP2', 'P2', 'FC4', 'C4', 'CP4', 'P4', 'F6', 'FC6', 'C6', 'CP6', 'P6']\n",
    "\n",
    "    n_channels = len(channels)\n",
    "    ch_types = ['eeg'] * n_channels\n",
    "    montage = mne.channels.make_standard_montage('standard_1020')\n",
    "    info = mne.create_info(ch_names=channels, sfreq=sfreq, ch_types=ch_types)\n",
    "    info.set_montage(montage)\n",
    "    data, events = EEG_array_modifier(eeg_array, label_array)\n",
    "    epochs = mne.EpochsArray(data, info, events, tmin=0, event_id=event_id)\n",
    "\n",
    "    return epochs"
   ]
  },
  {
   "cell_type": "code",
   "execution_count": 7,
   "id": "c695ee38-7a76-483c-85fa-00d8d3db8942",
   "metadata": {},
   "outputs": [
    {
     "name": "stdout",
     "output_type": "stream",
     "text": [
      "Not setting metadata\n",
      "60 matching events found\n",
      "No baseline correction applied\n",
      "0 projection items activated\n",
      "(60, 31, 2000)\n"
     ]
    },
    {
     "name": "stderr",
     "output_type": "stream",
     "text": [
      "C:\\Users\\SHR\\AppData\\Local\\Temp\\ipykernel_24980\\3524952242.py:4: FutureWarning: The current default of copy=False will change to copy=True in 1.7. Set the value of copy explicitly to avoid this warning\n",
      "  print(epochs.get_data().shape)\n"
     ]
    }
   ],
   "source": [
    "file_name = '[CYA]VI_01.txt'\n",
    "eeg_array, label_array = import_EEG(file_name)\n",
    "epochs = EEG_to_epochs(eeg_array, label_array)\n",
    "print(epochs.get_data().shape)"
   ]
  },
  {
   "cell_type": "code",
   "execution_count": null,
   "id": "4fe49dbb-deb0-4d49-9489-8dc41a6edf17",
   "metadata": {},
   "outputs": [],
   "source": []
  }
 ],
 "metadata": {
  "kernelspec": {
   "display_name": "pytorch2",
   "language": "python",
   "name": "pytorch2"
  },
  "language_info": {
   "codemirror_mode": {
    "name": "ipython",
    "version": 3
   },
   "file_extension": ".py",
   "mimetype": "text/x-python",
   "name": "python",
   "nbconvert_exporter": "python",
   "pygments_lexer": "ipython3",
   "version": "3.8.19"
  }
 },
 "nbformat": 4,
 "nbformat_minor": 5
}
